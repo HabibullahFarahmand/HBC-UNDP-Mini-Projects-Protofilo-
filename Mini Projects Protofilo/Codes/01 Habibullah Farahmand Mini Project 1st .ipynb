{
 "cells": [
  {
   "cell_type": "code",
   "execution_count": null,
   "id": "317687b1",
   "metadata": {},
   "outputs": [
    {
     "name": "stdout",
     "output_type": "stream",
     "text": [
      "Chatbot: Hi! Welcome to the simple chatbot.\n",
      "\n",
      "You can ask me the following questions:\n",
      "or type 'Quit' to exit\n",
      "- Hi!\n",
      "- How are you?\n",
      "- Are you working?\n",
      "- What is your name?\n",
      "- What did you do yesterday?\n",
      "- Quit\n"
     ]
    }
   ],
   "source": [
    "# Simple Chatbot\n",
    "\n",
    "def chatbot():\n",
    "    print(\"Chatbot: Hi! Welcome to the simple chatbot.\")\n",
    "\n",
    "    # List of predefined questions\n",
    "    questions = [\n",
    "        \"Hi!\",\n",
    "        \"How are you?\",\n",
    "        \"Are you working?\",\n",
    "        \"What is your name?\",\n",
    "        \"What did you do yesterday?\",\n",
    "        \"Quit\"\n",
    "    ]\n",
    "\n",
    "    # List of responses corresponding to the predefined questions\n",
    "    responses = {\n",
    "        \"Hi!\": \"Hello! How can I assist you today?\",\n",
    "        \"How are you?\": \"I'm just a program, but I'm here to help!\",\n",
    "        \"Are you working?\": \"Yes, I'm always ready to assist you!\",\n",
    "        \"What is your name?\": \"I'm a simple chatbot created by you.\",\n",
    "        \"What did you do yesterday?\": \"I was waiting for you to talk to me!\",\n",
    "        \"Quit\": \"Goodbye! Have a great day!\"\n",
    "    }\n",
    "\n",
    "\n",
    "    # Display the list of available questions\n",
    "    print(\"\\nYou can ask me the following questions:\\nor type 'Quit' to exit\")\n",
    "    for question in questions:\n",
    "        print(f\"- {question}\")\n",
    "    \n",
    "    while True:\n",
    "        # Get user input\n",
    "        user_input = input(\"\\nYou: \")\n",
    "\n",
    "        # Respond based on the input\n",
    "        if user_input in responses:\n",
    "            print(f\"Chatbot: {responses[user_input]}\")\n",
    "            if user_input == \"Quit\":\n",
    "                break\n",
    "        else:\n",
    "            print(\"Chatbot: Sorry, I don't understand that question.\")\n",
    "\n",
    "# Run the chatbot\n",
    "chatbot()"
   ]
  },
  {
   "cell_type": "code",
   "execution_count": null,
   "id": "c9bdb688",
   "metadata": {},
   "outputs": [],
   "source": []
  }
 ],
 "metadata": {
  "kernelspec": {
   "display_name": "Python 3 (ipykernel)",
   "language": "python",
   "name": "python3"
  },
  "language_info": {
   "codemirror_mode": {
    "name": "ipython",
    "version": 3
   },
   "file_extension": ".py",
   "mimetype": "text/x-python",
   "name": "python",
   "nbconvert_exporter": "python",
   "pygments_lexer": "ipython3",
   "version": "3.9.13"
  }
 },
 "nbformat": 4,
 "nbformat_minor": 5
}
