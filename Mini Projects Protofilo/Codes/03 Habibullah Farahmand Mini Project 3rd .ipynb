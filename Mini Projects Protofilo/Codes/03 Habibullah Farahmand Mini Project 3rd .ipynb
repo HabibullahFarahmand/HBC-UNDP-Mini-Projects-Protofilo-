{
 "cells": [
  {
   "cell_type": "code",
   "execution_count": 1,
   "id": "88114fd2",
   "metadata": {},
   "outputs": [],
   "source": [
    "import pandas as pd\n",
    "import requests\n",
    "import dash\n",
    "from dash import dcc, html\n",
    "from dash.dependencies import Input, Output\n",
    "import plotly.graph_objs as go"
   ]
  },
  {
   "cell_type": "code",
   "execution_count": 2,
   "id": "29bdbd53",
   "metadata": {},
   "outputs": [],
   "source": [
    "# Initialize Dash app\n",
    "app = dash.Dash(__name__)"
   ]
  },
  {
   "cell_type": "code",
   "execution_count": 3,
   "id": "b9d7058f",
   "metadata": {},
   "outputs": [],
   "source": [
    "# Alpha Vantage data retrieval function\n",
    "def fetch_stock_data(symbol=\"AAPL\", api_key=\"BCYSQOOG6GQLA1Y4\"): #FJFK0XQDQULQQ0MT or BCYSQOOG6GQLA1Y4\n",
    "    url = f\"https://www.alphavantage.co/query?function=TIME_SERIES_INTRADAY&symbol={symbol}&interval=1min&apikey={api_key}\"\n",
    "    response = requests.get(url)\n",
    "    data = response.json()\n",
    "\n",
    "    # Extract and process data similar to yfinance output\n",
    "    if \"Time Series (1min)\" in data:\n",
    "        time_series = data[\"Time Series (1min)\"]\n",
    "        df = pd.DataFrame(time_series).T  # Transpose for proper formatting\n",
    "        df.index = pd.to_datetime(df.index)\n",
    "        df = df.astype(float)\n",
    "        df.columns = [\"Open\", \"High\", \"Low\", \"Close\", \"Volume\"]\n",
    "        return df.sort_index()\n",
    "    else:\n",
    "        print(\"Error: Could not retrieve data from Alpha Vantage.\")\n",
    "        return None"
   ]
  },
  {
   "cell_type": "code",
   "execution_count": 4,
   "id": "594008c2",
   "metadata": {},
   "outputs": [],
   "source": [
    "# Dash app layout\n",
    "app.layout = html.Div([\n",
    "    html.H1(\"Real-Time Stock Price Dashboard\"),\n",
    "    dcc.Input(id=\"ticker-input\", value=\"AAPL\", type=\"text\", placeholder=\"Enter stock symbol\"),\n",
    "    dcc.Graph(id=\"stock-graph\"),\n",
    "    dcc.Interval(id=\"interval\", interval=60000, n_intervals=0)  # refresh every 60 seconds\n",
    "])"
   ]
  },
  {
   "cell_type": "code",
   "execution_count": 5,
   "id": "7fe4c7c5",
   "metadata": {},
   "outputs": [],
   "source": [
    "# Callback to update graph dynamically\n",
    "@app.callback(\n",
    "    Output(\"stock-graph\", \"figure\"),\n",
    "    [Input(\"ticker-input\", \"value\"), Input(\"interval\", \"n_intervals\")]\n",
    ")\n",
    "def update_graph(ticker, n_intervals):\n",
    "    data = fetch_stock_data(ticker)\n",
    "    if data is None:\n",
    "        return go.Figure()  # return an empty figure if data is unavailable\n",
    "    \n",
    "    # Create the candlestick chart\n",
    "    fig = go.Figure(data=[go.Candlestick(\n",
    "        x=data.index,\n",
    "        open=data[\"Open\"],\n",
    "        high=data[\"High\"],\n",
    "        low=data[\"Low\"],\n",
    "        close=data[\"Close\"]\n",
    "    )])\n",
    "    fig.update_layout(title=f\"{ticker} Stock Price\", xaxis_title=\"Time\", yaxis_title=\"Price\")\n",
    "    return fig"
   ]
  },
  {
   "cell_type": "code",
   "execution_count": 6,
   "id": "cd3dc0b7",
   "metadata": {},
   "outputs": [
    {
     "data": {
      "text/html": [
       "\n",
       "        <iframe\n",
       "            width=\"100%\"\n",
       "            height=\"650\"\n",
       "            src=\"http://127.0.0.1:8050/\"\n",
       "            frameborder=\"0\"\n",
       "            allowfullscreen\n",
       "            \n",
       "        ></iframe>\n",
       "        "
      ],
      "text/plain": [
       "<IPython.lib.display.IFrame at 0x2ef51c64d00>"
      ]
     },
     "metadata": {},
     "output_type": "display_data"
    }
   ],
   "source": [
    "# Run the Dash app\n",
    "if __name__ == \"__main__\":\n",
    "    app.run_server(debug=True)"
   ]
  },
  {
   "cell_type": "code",
   "execution_count": null,
   "id": "92bef6c3-6f16-441e-b613-4f451f189985",
   "metadata": {},
   "outputs": [],
   "source": []
  }
 ],
 "metadata": {
  "kernelspec": {
   "display_name": "Python 3 (ipykernel)",
   "language": "python",
   "name": "python3"
  },
  "language_info": {
   "codemirror_mode": {
    "name": "ipython",
    "version": 3
   },
   "file_extension": ".py",
   "mimetype": "text/x-python",
   "name": "python",
   "nbconvert_exporter": "python",
   "pygments_lexer": "ipython3",
   "version": "3.9.13"
  }
 },
 "nbformat": 4,
 "nbformat_minor": 5
}
